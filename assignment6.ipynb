{
 "cells": [
  {
   "cell_type": "code",
   "execution_count": 1,
   "id": "e58adeae-38f5-4a36-9720-3d329397f2cd",
   "metadata": {},
   "outputs": [],
   "source": [
    " # ASSIGMENT 05_FEB"
   ]
  },
  {
   "cell_type": "code",
   "execution_count": 2,
   "id": "0e2725e7-67f7-4598-98dc-998ddc50555f",
   "metadata": {},
   "outputs": [],
   "source": [
    "# Q .1\n"
   ]
  },
  {
   "cell_type": "code",
   "execution_count": 8,
   "id": "24e07e00-075e-4cf7-9d66-c2ee7b50c9a2",
   "metadata": {},
   "outputs": [],
   "source": [
    "'''In Object-Oriented Programming (OOP), a class is a blueprint or a template that defines the structure and behavior of objects. It serves as a blueprint for creating objects with specific attributes (data members) and behaviors (methods). Think of a class as a cookie cutter that defines the shape and characteristics of cookies, but it's not an actual cookie itself.\n",
    "\n",
    "An object, on the other hand, is an instance of a class. It is a concrete entity created based on the class blueprint, and it represents a specific instance of the class with its own unique data. You can think of an object as an individual cookie created using the cookie cutter mentioned earlier. '''\n",
    "\n",
    "\n",
    "\n",
    "class car :\n",
    "    def __init__(self , model , car_name , car_company , car_color , car_price) :\n",
    "        self.model = model\n",
    "        self.car_name = car_name\n",
    "        self.car_company = car_company\n",
    "        self.car_color = car_color\n",
    "        self.car_price = car_price\n",
    "        \n",
    "    def car_details(self):\n",
    "        return self.model , self.car_name , self.car_company , self.car_color , self.car_price"
   ]
  },
  {
   "cell_type": "code",
   "execution_count": 13,
   "id": "53e1fbe5-bd74-4130-bbae-fae462a689d2",
   "metadata": {},
   "outputs": [],
   "source": [
    "Toyota = car(\"4X2diesel\" , \"FOrtuner_Legender\" , \"toyota\" , \"black\" , \"35 lakh\")"
   ]
  },
  {
   "cell_type": "code",
   "execution_count": 14,
   "id": "85cbf2b0-3273-440a-8e4a-5f2ef5a52f22",
   "metadata": {},
   "outputs": [
    {
     "data": {
      "text/plain": [
       "('4X2diesel', 'FOrtuner_Legender', 'toyota', 'black', '35 lakh')"
      ]
     },
     "execution_count": 14,
     "metadata": {},
     "output_type": "execute_result"
    }
   ],
   "source": [
    "Toyota.car_details()"
   ]
  },
  {
   "cell_type": "code",
   "execution_count": 12,
   "id": "774522c3-3ae5-41ec-82a7-925c268823c8",
   "metadata": {},
   "outputs": [
    {
     "data": {
      "text/plain": [
       "'35 lakh'"
      ]
     },
     "execution_count": 12,
     "metadata": {},
     "output_type": "execute_result"
    }
   ],
   "source": [
    "Toyota.car_price"
   ]
  },
  {
   "cell_type": "code",
   "execution_count": 16,
   "id": "82bf3c29-822f-4447-a726-4f6e136821df",
   "metadata": {},
   "outputs": [],
   "source": [
    "Hyundai = car(\"SX\" , \"Verna\" , \"HYUNDAI\" , \"white\" , \"25_lakh\")"
   ]
  },
  {
   "cell_type": "code",
   "execution_count": 17,
   "id": "3cc16642-711a-4515-84d5-8b6bfaa3b924",
   "metadata": {},
   "outputs": [
    {
     "data": {
      "text/plain": [
       "('SX', 'Verna', 'HYUNDAI', 'white', '25_lakh')"
      ]
     },
     "execution_count": 17,
     "metadata": {},
     "output_type": "execute_result"
    }
   ],
   "source": [
    "Hyundai.car_details()"
   ]
  },
  {
   "cell_type": "code",
   "execution_count": 18,
   "id": "989a39dc-f77b-4f0a-91ec-7d41b424115e",
   "metadata": {},
   "outputs": [],
   "source": [
    " # Q . 2\n",
    "    "
   ]
  },
  {
   "cell_type": "code",
   "execution_count": 19,
   "id": "c0ff480c-2738-4854-93b3-d7e63ed7f690",
   "metadata": {},
   "outputs": [],
   "source": [
    "# 1 ) Encapsulation:\n",
    "# 2 ) Abstraction:\n",
    "# 3 ) Inheritance:\n",
    "# 4 ) Polymorphism:\n"
   ]
  },
  {
   "cell_type": "code",
   "execution_count": 20,
   "id": "106bf05c-626d-4d64-b846-b33c2f464588",
   "metadata": {},
   "outputs": [],
   "source": [
    " # Q .3\n",
    "    "
   ]
  },
  {
   "cell_type": "code",
   "execution_count": 21,
   "id": "3e00040f-06e0-4ec6-bb76-6152e453372b",
   "metadata": {},
   "outputs": [],
   "source": [
    "\"\"\" The __init__() function is a special method in Python that is automatically called when a new object is created from a class. It is known as the constructor method, and its primary purpose is to initialize the attributes of the object and perform any setup required before the object is ready for use.\n",
    "\n",
    "When you create an instance of a class, the __init__() method is automatically invoked, allowing you to set initial values for the object's attributes and perform any necessary tasks to configure the object.\"\"\"\n",
    "\n",
    "class Dog:\n",
    "    def __init__(self, name, age, breed):\n",
    "        # Initialize attributes\n",
    "        self.name = name\n",
    "        self.age = age\n",
    "        self.breed = breed\n",
    "    def dog_details(self):\n",
    "        return self.name , self.age , self.breed"
   ]
  },
  {
   "cell_type": "code",
   "execution_count": 23,
   "id": "897ac26b-67ff-4509-98fc-5ef63bc75d41",
   "metadata": {},
   "outputs": [],
   "source": [
    "dog1= Dog(\"buddy\" , 3 , \"labrador_Retriver\")"
   ]
  },
  {
   "cell_type": "code",
   "execution_count": 24,
   "id": "ba0dc852-8ee8-449d-a47f-6f5b926d6412",
   "metadata": {},
   "outputs": [
    {
     "data": {
      "text/plain": [
       "('buddy', 3, 'labrador_Retriver')"
      ]
     },
     "execution_count": 24,
     "metadata": {},
     "output_type": "execute_result"
    }
   ],
   "source": [
    "dog1.dog_details()"
   ]
  },
  {
   "cell_type": "code",
   "execution_count": 25,
   "id": "a2c2f09f-2978-40aa-bed0-8e34e8e42d66",
   "metadata": {},
   "outputs": [],
   "source": [
    "dog2 = Dog(\"max\" , 2 , \"German_shepherd\")"
   ]
  },
  {
   "cell_type": "code",
   "execution_count": 26,
   "id": "13ebb3e7-bf26-4112-ba65-0279c5151d4d",
   "metadata": {},
   "outputs": [
    {
     "data": {
      "text/plain": [
       "('max', 2, 'German_shepherd')"
      ]
     },
     "execution_count": 26,
     "metadata": {},
     "output_type": "execute_result"
    }
   ],
   "source": [
    "dog2.dog_details()"
   ]
  },
  {
   "cell_type": "code",
   "execution_count": 27,
   "id": "814383ea-a301-41c1-9d17-4c8cae76ec6e",
   "metadata": {},
   "outputs": [],
   "source": [
    " # Q .4\n",
    "    "
   ]
  },
  {
   "cell_type": "code",
   "execution_count": 28,
   "id": "bc130969-21b3-4809-bfef-e19160582ead",
   "metadata": {},
   "outputs": [
    {
     "data": {
      "text/plain": [
       "' In object-oriented programming (OOP) in Python, self is a special parameter used in method definitions \\n to represent the instance of the class. It is a convention in Python to use self as the first parameter name for instance methods. When you call a method on an object, Python automatically passes the instance (i.e., the object itself) as the first argument to the method. By convention, you name this parameter self, but you can use any valid variable name instead.'"
      ]
     },
     "execution_count": 28,
     "metadata": {},
     "output_type": "execute_result"
    }
   ],
   "source": [
    "\"\"\" In object-oriented programming (OOP) in Python, self is a special parameter used in method definitions \\n to represent the instance of the class. It is a convention in Python to use self as the first parameter name for instance methods. When you call a method on an object, Python automatically passes the instance (i.e., the object itself) as the first argument to the method. By convention, you name this parameter self, but you can use any valid variable name instead.\"\"\"\n",
    "\n"
   ]
  },
  {
   "cell_type": "code",
   "execution_count": 29,
   "id": "9bbfcf50-03a8-43a2-bd7b-3b6c9af397c8",
   "metadata": {},
   "outputs": [],
   "source": [
    " # Q .5\n",
    "    "
   ]
  },
  {
   "cell_type": "code",
   "execution_count": null,
   "id": "7ee3338b-6ee7-4c8c-9b47-16d23714cf15",
   "metadata": {},
   "outputs": [],
   "source": [
    "\"\"\" Inheritance is a fundamental concept in object-oriented programming (OOP) that allows a class to inherit properties and behaviors (i.e., fields and methods) from another class. The class that inherits is called the subclass or derived class, and the class being inherited from is called the superclass or base class. Inheritance promotes code reusability and hierarchy in class relationships.\n",
    "\n",
    "There are mainly four types of inheritance:\"\"\"\n",
    "\n",
    "Single Inheritance:\n",
    "In single inheritance, a subclass can inherit from only one superclass.\n",
    "\n",
    "class Animal:\n",
    "    def speak(self):\n",
    "        print(\"Animal speaks\")\n",
    "\n",
    "class Dog(Animal):\n",
    "    def bark(self):\n",
    "        print(\"Dog barks\")\n",
    "\n",
    "# The class Dog inherits from the class Animal\n",
    "\n",
    "Multiple Inheritance:\n",
    "In multiple inheritance, a subclass can inherit from multiple superclasses.\n",
    "Example:\n",
    "\n",
    "\n",
    "class Car:\n",
    "    def drive(self):\n",
    "        print(\"Car is being driven\")\n",
    "\n",
    "class ElectricVehicle:\n",
    "    def charge(self):\n",
    "        print(\"EV is charging\")\n",
    "\n",
    "class ElectricCar(Car, ElectricVehicle):\n",
    "    pass\n",
    "\n",
    "# The class ElectricCar inherits from both Car and ElectricVehicle classes\n",
    "Multilevel Inheritance:\n",
    "In multilevel inheritance, a subclass inherits from another subclass, creating a chain of inheritance.\n",
    "Example:\n",
    "\n",
    "class Vehicle:\n",
    "    def move(self):\n",
    "        print(\"Vehicle is moving\")\n",
    "\n",
    "class Car(Vehicle):\n",
    "    def drive(self):\n",
    "        print(\"Car is being driven\")\n",
    "\n",
    "class SportsCar(Car):\n",
    "    def speed_up(self):\n",
    "        print(\"Sports car is speeding up\")\n",
    "\n",
    "# The class SportsCar inherits from the class Car, which in turn inherits from Vehicle\n",
    "Hierarchical Inheritance:\n",
    "In hierarchical inheritance, multiple subclasses inherit from the same superclass.\n",
    "Example\n",
    "class Shape:\n",
    "    def draw(self):\n",
    "        print(\"Shape is being drawn\")\n",
    "\n",
    "class Circle(Shape):\n",
    "    def draw_circle(self):\n",
    "        print(\"Circle is being drawn\")\n",
    "\n",
    "class Square(Shape):\n",
    "    def draw_square(self):\n",
    "        print(\"Square is being drawn\")\n",
    "\n",
    "# Both Circle and Square classes inherit from the Shape class\n",
    "It's essential to use inheritance judiciously and avoid deep inheritance hierarchies, as they can lead to code complexity and maintenance issues.\n",
    "\n",
    "\n",
    "\n",
    "\n",
    "\n"
   ]
  }
 ],
 "metadata": {
  "kernelspec": {
   "display_name": "Python 3 (ipykernel)",
   "language": "python",
   "name": "python3"
  },
  "language_info": {
   "codemirror_mode": {
    "name": "ipython",
    "version": 3
   },
   "file_extension": ".py",
   "mimetype": "text/x-python",
   "name": "python",
   "nbconvert_exporter": "python",
   "pygments_lexer": "ipython3",
   "version": "3.10.8"
  }
 },
 "nbformat": 4,
 "nbformat_minor": 5
}
